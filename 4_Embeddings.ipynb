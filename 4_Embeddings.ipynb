{
 "cells": [
  {
   "cell_type": "code",
   "execution_count": 33,
   "id": "026f7342-045e-409c-9949-acfe95ff482a",
   "metadata": {},
   "outputs": [
    {
     "name": "stdout",
     "output_type": "stream",
     "text": [
      "huggingface/tokenizers: The current process just got forked, after parallelism has already been used. Disabling parallelism to avoid deadlocks...\n",
      "To disable this warning, you can either:\n",
      "\t- Avoid using `tokenizers` before the fork if possible\n",
      "\t- Explicitly set the environment variable TOKENIZERS_PARALLELISM=(true | false)\n"
     ]
    }
   ],
   "source": [
    "%%capture\n",
    "!pip install torch transformers"
   ]
  },
  {
   "cell_type": "code",
   "execution_count": 34,
   "id": "edf83f28-0637-4e1d-b9c8-2966a32365b3",
   "metadata": {
    "editable": true,
    "slideshow": {
     "slide_type": ""
    },
    "tags": []
   },
   "outputs": [],
   "source": [
    "from transformers import pipeline, AutoModel, AutoTokenizer"
   ]
  },
  {
   "cell_type": "code",
   "execution_count": 2,
   "id": "9cf3fb91-261b-4559-a7d9-97240e0c64ea",
   "metadata": {
    "editable": true,
    "slideshow": {
     "slide_type": "fragment"
    },
    "tags": []
   },
   "outputs": [
    {
     "ename": "NameError",
     "evalue": "name 'generator' is not defined",
     "output_type": "error",
     "traceback": [
      "\u001b[0;31m---------------------------------------------------------------------------\u001b[0m",
      "\u001b[0;31mNameError\u001b[0m                                 Traceback (most recent call last)",
      "Cell \u001b[0;32mIn[2], line 1\u001b[0m\n\u001b[0;32m----> 1\u001b[0m \u001b[43mgenerator\u001b[49m(\u001b[38;5;124m\"\u001b[39m\u001b[38;5;124mThe capital of Belgium is Brussels. The capital of France is\u001b[39m\u001b[38;5;124m\"\u001b[39m, max_new_tokens\u001b[38;5;241m=\u001b[39m\u001b[38;5;241m2\u001b[39m)\n",
      "\u001b[0;31mNameError\u001b[0m: name 'generator' is not defined"
     ]
    }
   ],
   "source": [
    "generator(\"The capital of Belgium is Brussels. The capital of France is\", max_new_tokens=2)"
   ]
  },
  {
   "cell_type": "code",
   "execution_count": 35,
   "id": "785d102c-b9eb-4f25-af68-0e46c5a9750a",
   "metadata": {},
   "outputs": [],
   "source": [
    "tokenizer = AutoTokenizer.from_pretrained(\"gpt2\")\n",
    "model = AutoModel.from_pretrained(\"gpt2\")\n",
    "\n",
    "pipe = pipeline('feature-extraction', model=model, tokenizer=tokenizer)"
   ]
  },
  {
   "cell_type": "code",
   "execution_count": 36,
   "id": "dbf59dca-ccdb-4c43-8e9b-a08a2eed6fc7",
   "metadata": {},
   "outputs": [
    {
     "data": {
      "text/plain": [
       "True"
      ]
     },
     "execution_count": 36,
     "metadata": {},
     "output_type": "execute_result"
    }
   ],
   "source": [
    "\"woman\" in tokenizer.get_vocab()"
   ]
  },
  {
   "cell_type": "code",
   "execution_count": 37,
   "id": "8ec04e61-623a-402e-9278-04b9504309c8",
   "metadata": {},
   "outputs": [],
   "source": [
    "data_w = np.array(pipe(\"woman\")[0][0])"
   ]
  },
  {
   "cell_type": "code",
   "execution_count": 38,
   "id": "5aed38bd-2b1a-4899-bea9-65ed7aafa689",
   "metadata": {},
   "outputs": [],
   "source": [
    "data_m = np.array(pipe(\"man\")[0][0])"
   ]
  },
  {
   "cell_type": "code",
   "execution_count": 39,
   "id": "e00ba548-027e-4a6f-9b7a-6809d2ef1de0",
   "metadata": {},
   "outputs": [],
   "source": [
    "data_k = np.array(pipe(\"king\")[0][0])"
   ]
  },
  {
   "cell_type": "code",
   "execution_count": 40,
   "id": "2c7fa8f0-1ffb-45c6-ab2e-bc944c85d71f",
   "metadata": {},
   "outputs": [],
   "source": [
    "data_q = np.array(pipe(\"queen\")[0][0])"
   ]
  },
  {
   "cell_type": "code",
   "execution_count": 41,
   "id": "eff91b16-3926-410f-b466-f437374e9a2c",
   "metadata": {},
   "outputs": [],
   "source": [
    "import numpy as np\n",
    "from numpy.linalg import norm"
   ]
  },
  {
   "cell_type": "code",
   "execution_count": 42,
   "id": "27a61854-3d62-40a1-a030-6dbacf2d23f6",
   "metadata": {},
   "outputs": [],
   "source": [
    "approx_q = data_k - data_m + data_w"
   ]
  },
  {
   "cell_type": "code",
   "execution_count": 43,
   "id": "1601d6be-fc61-450d-b65c-4427f0438c5f",
   "metadata": {},
   "outputs": [
    {
     "name": "stdout",
     "output_type": "stream",
     "text": [
      "Cosine Similarity: 0.9834516586833377\n"
     ]
    }
   ],
   "source": [
    "cosine = np.dot(approx_q, data_q)/(norm(approx_q)*norm(data_q))\n",
    "print(\"Cosine Similarity:\", cosine)"
   ]
  },
  {
   "cell_type": "code",
   "execution_count": null,
   "id": "462b9fa5-9a00-4b02-95c5-5ba867a98379",
   "metadata": {},
   "outputs": [],
   "source": []
  }
 ],
 "metadata": {
  "kernelspec": {
   "display_name": "Python 3 (ipykernel)",
   "language": "python",
   "name": "python3"
  },
  "language_info": {
   "codemirror_mode": {
    "name": "ipython",
    "version": 3
   },
   "file_extension": ".py",
   "mimetype": "text/x-python",
   "name": "python",
   "nbconvert_exporter": "python",
   "pygments_lexer": "ipython3",
   "version": "3.11.5"
  }
 },
 "nbformat": 4,
 "nbformat_minor": 5
}
