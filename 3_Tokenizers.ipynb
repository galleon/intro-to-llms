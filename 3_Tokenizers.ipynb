{
 "cells": [
  {
   "cell_type": "code",
   "execution_count": null,
   "id": "e8c6f943-6a87-4b6a-9368-f0ec3038734e",
   "metadata": {
    "editable": true,
    "slideshow": {
     "slide_type": ""
    },
    "tags": []
   },
   "outputs": [],
   "source": []
  },
  {
   "cell_type": "code",
   "execution_count": null,
   "id": "bb0e24bf-471e-4bb7-969a-3e7f39c751fe",
   "metadata": {
    "editable": true,
    "slideshow": {
     "slide_type": ""
    },
    "tags": []
   },
   "outputs": [],
   "source": []
  },
  {
   "cell_type": "code",
   "execution_count": 10,
   "id": "07436db6-626f-4885-95a5-eeca65ed7595",
   "metadata": {
    "editable": true,
    "slideshow": {
     "slide_type": ""
    },
    "tags": []
   },
   "outputs": [],
   "source": [
    "%%capture\n",
    "!pip install transformers huggingface_hub"
   ]
  },
  {
   "cell_type": "code",
   "execution_count": 12,
   "id": "31ca1aab-469f-46e0-a14d-960fc8ca2c3e",
   "metadata": {
    "editable": true,
    "slideshow": {
     "slide_type": ""
    },
    "tags": []
   },
   "outputs": [],
   "source": [
    "from huggingface_hub import notebook_login"
   ]
  },
  {
   "cell_type": "code",
   "execution_count": 13,
   "id": "98ae320e-5030-4f14-b659-fca47eda3d8a",
   "metadata": {
    "editable": true,
    "slideshow": {
     "slide_type": ""
    },
    "tags": []
   },
   "outputs": [
    {
     "data": {
      "application/vnd.jupyter.widget-view+json": {
       "model_id": "52b96e7db5fe40ae879d4651eeff9b28",
       "version_major": 2,
       "version_minor": 0
      },
      "text/plain": [
       "VBox(children=(HTML(value='<center> <img\\nsrc=https://huggingface.co/front/assets/huggingface_logo-noborder.sv…"
      ]
     },
     "metadata": {},
     "output_type": "display_data"
    }
   ],
   "source": [
    "notebook_login()"
   ]
  },
  {
   "cell_type": "code",
   "execution_count": 14,
   "id": "3ff6bc8e-366f-4de1-84c5-dd72f2ecb2cb",
   "metadata": {
    "editable": true,
    "slideshow": {
     "slide_type": ""
    },
    "tags": []
   },
   "outputs": [],
   "source": [
    "from transformers import AutoTokenizer\n",
    "import tiktoken"
   ]
  },
  {
   "cell_type": "code",
   "execution_count": 22,
   "id": "94bb73f5-8c68-4ca2-86da-97d51a503462",
   "metadata": {
    "editable": true,
    "slideshow": {
     "slide_type": ""
    },
    "tags": []
   },
   "outputs": [],
   "source": [
    "def show_tokens(sentence, tokenizer_name, print_token_ids=False):\n",
    "    if tokenizer_name == 'gpt-4':\n",
    "        tokenizer = tiktoken.encoding_for_model(\"gpt-4\")\n",
    "        token_ids = tokenizer.encode(sentence)\n",
    "    else:\n",
    "        tokenizer = AutoTokenizer.from_pretrained(tokenizer_name)\n",
    "        token_ids = tokenizer.encode(sentence)\n",
    "\n",
    "    for t in token_ids:\n",
    "        if print_token_ids:\n",
    "            print(t, end = \" \")\n",
    "        print('\\x1b[0;30;47m'+ tokenizer.decode([t]) + '\\x1b[0m', end = \" \")\n",
    "\n",
    "    print(\"\\n\\n\")\n",
    "\n",
    "    for t in token_ids:\n",
    "        print(t, '\\x1b[0;30;47m'+ tokenizer.decode([t]) + '\\x1b[0m')\n",
    "\n",
    "def encode_decode(sentence, tokenizer_name):\n",
    "    tokenizer = AutoTokenizer.from_pretrained(tokenizer_name)\n",
    "    token_ids = tokenizer(sentence).iput_ids\n",
    "    print(tokenizer.decode(token_ids))"
   ]
  },
  {
   "cell_type": "code",
   "execution_count": 29,
   "id": "db441deb-a9d9-4d44-ab2c-cad71aab70e8",
   "metadata": {
    "editable": true,
    "slideshow": {
     "slide_type": ""
    },
    "tags": []
   },
   "outputs": [],
   "source": [
    "text = \"\"\"\n",
    "My name is HOLIDAY\n",
    "我愛 🤗\n",
    "<s> </s> if elif: else: end\n",
    "Two tabs: \"\\t\\t\" and four spaces: \"   \"\n",
    "12.0*12=144\n",
    "\"\"\""
   ]
  },
  {
   "cell_type": "code",
   "execution_count": 30,
   "id": "59e4b38e-0130-4f49-808c-b0612351d278",
   "metadata": {
    "editable": true,
    "slideshow": {
     "slide_type": ""
    },
    "tags": []
   },
   "outputs": [
    {
     "name": "stdout",
     "output_type": "stream",
     "text": [
      "\u001b[0;30;47m[CLS]\u001b[0m \u001b[0;30;47mmy\u001b[0m \u001b[0;30;47mname\u001b[0m \u001b[0;30;47mis\u001b[0m \u001b[0;30;47mholiday\u001b[0m \u001b[0;30;47m我\u001b[0m \u001b[0;30;47m愛\u001b[0m \u001b[0;30;47m[UNK]\u001b[0m \u001b[0;30;47m<\u001b[0m \u001b[0;30;47ms\u001b[0m \u001b[0;30;47m>\u001b[0m \u001b[0;30;47m<\u001b[0m \u001b[0;30;47m/\u001b[0m \u001b[0;30;47ms\u001b[0m \u001b[0;30;47m>\u001b[0m \u001b[0;30;47mif\u001b[0m \u001b[0;30;47meli\u001b[0m \u001b[0;30;47m##f\u001b[0m \u001b[0;30;47m:\u001b[0m \u001b[0;30;47melse\u001b[0m \u001b[0;30;47m:\u001b[0m \u001b[0;30;47mend\u001b[0m \u001b[0;30;47mtwo\u001b[0m \u001b[0;30;47mtab\u001b[0m \u001b[0;30;47m##s\u001b[0m \u001b[0;30;47m:\u001b[0m \u001b[0;30;47m\"\u001b[0m \u001b[0;30;47m\"\u001b[0m \u001b[0;30;47mand\u001b[0m \u001b[0;30;47mfour\u001b[0m \u001b[0;30;47mspaces\u001b[0m \u001b[0;30;47m:\u001b[0m \u001b[0;30;47m\"\u001b[0m \u001b[0;30;47m\"\u001b[0m \u001b[0;30;47m12\u001b[0m \u001b[0;30;47m.\u001b[0m \u001b[0;30;47m0\u001b[0m \u001b[0;30;47m*\u001b[0m \u001b[0;30;47m12\u001b[0m \u001b[0;30;47m=\u001b[0m \u001b[0;30;47m144\u001b[0m \u001b[0;30;47m[SEP]\u001b[0m \n",
      "\n",
      "\n",
      "101 \u001b[0;30;47m[CLS]\u001b[0m\n",
      "2026 \u001b[0;30;47mmy\u001b[0m\n",
      "2171 \u001b[0;30;47mname\u001b[0m\n",
      "2003 \u001b[0;30;47mis\u001b[0m\n",
      "6209 \u001b[0;30;47mholiday\u001b[0m\n",
      "1855 \u001b[0;30;47m我\u001b[0m\n",
      "1853 \u001b[0;30;47m愛\u001b[0m\n",
      "100 \u001b[0;30;47m[UNK]\u001b[0m\n",
      "1026 \u001b[0;30;47m<\u001b[0m\n",
      "1055 \u001b[0;30;47ms\u001b[0m\n",
      "1028 \u001b[0;30;47m>\u001b[0m\n",
      "1026 \u001b[0;30;47m<\u001b[0m\n",
      "1013 \u001b[0;30;47m/\u001b[0m\n",
      "1055 \u001b[0;30;47ms\u001b[0m\n",
      "1028 \u001b[0;30;47m>\u001b[0m\n",
      "2065 \u001b[0;30;47mif\u001b[0m\n",
      "12005 \u001b[0;30;47meli\u001b[0m\n",
      "2546 \u001b[0;30;47m##f\u001b[0m\n",
      "1024 \u001b[0;30;47m:\u001b[0m\n",
      "2842 \u001b[0;30;47melse\u001b[0m\n",
      "1024 \u001b[0;30;47m:\u001b[0m\n",
      "2203 \u001b[0;30;47mend\u001b[0m\n",
      "2048 \u001b[0;30;47mtwo\u001b[0m\n",
      "21628 \u001b[0;30;47mtab\u001b[0m\n",
      "2015 \u001b[0;30;47m##s\u001b[0m\n",
      "1024 \u001b[0;30;47m:\u001b[0m\n",
      "1000 \u001b[0;30;47m\"\u001b[0m\n",
      "1000 \u001b[0;30;47m\"\u001b[0m\n",
      "1998 \u001b[0;30;47mand\u001b[0m\n",
      "2176 \u001b[0;30;47mfour\u001b[0m\n",
      "7258 \u001b[0;30;47mspaces\u001b[0m\n",
      "1024 \u001b[0;30;47m:\u001b[0m\n",
      "1000 \u001b[0;30;47m\"\u001b[0m\n",
      "1000 \u001b[0;30;47m\"\u001b[0m\n",
      "2260 \u001b[0;30;47m12\u001b[0m\n",
      "1012 \u001b[0;30;47m.\u001b[0m\n",
      "1014 \u001b[0;30;47m0\u001b[0m\n",
      "1008 \u001b[0;30;47m*\u001b[0m\n",
      "2260 \u001b[0;30;47m12\u001b[0m\n",
      "1027 \u001b[0;30;47m=\u001b[0m\n",
      "14748 \u001b[0;30;47m144\u001b[0m\n",
      "102 \u001b[0;30;47m[SEP]\u001b[0m\n"
     ]
    }
   ],
   "source": [
    "show_tokens(text, \"bert-base-uncased\")"
   ]
  },
  {
   "cell_type": "code",
   "execution_count": 31,
   "id": "989ae107-5c28-491f-add0-57d0f8af6e49",
   "metadata": {
    "editable": true,
    "slideshow": {
     "slide_type": ""
    },
    "tags": []
   },
   "outputs": [
    {
     "name": "stdout",
     "output_type": "stream",
     "text": [
      "huggingface/tokenizers: The current process just got forked, after parallelism has already been used. Disabling parallelism to avoid deadlocks...\n",
      "To disable this warning, you can either:\n",
      "\t- Avoid using `tokenizers` before the fork if possible\n",
      "\t- Explicitly set the environment variable TOKENIZERS_PARALLELISM=(true | false)\n"
     ]
    },
    {
     "data": {
      "application/vnd.jupyter.widget-view+json": {
       "model_id": "12743e3957ea45db8825c25d4e284b12",
       "version_major": 2,
       "version_minor": 0
      },
      "text/plain": [
       "Downloading (…)okenizer_config.json:   0%|          | 0.00/29.0 [00:00<?, ?B/s]"
      ]
     },
     "metadata": {},
     "output_type": "display_data"
    },
    {
     "data": {
      "application/vnd.jupyter.widget-view+json": {
       "model_id": "24cb08cd75ae447385d12571812e349c",
       "version_major": 2,
       "version_minor": 0
      },
      "text/plain": [
       "Downloading (…)lve/main/config.json:   0%|          | 0.00/570 [00:00<?, ?B/s]"
      ]
     },
     "metadata": {},
     "output_type": "display_data"
    },
    {
     "data": {
      "application/vnd.jupyter.widget-view+json": {
       "model_id": "9c8a2218f82d4df5aa5fd4bcb905474c",
       "version_major": 2,
       "version_minor": 0
      },
      "text/plain": [
       "Downloading (…)solve/main/vocab.txt:   0%|          | 0.00/213k [00:00<?, ?B/s]"
      ]
     },
     "metadata": {},
     "output_type": "display_data"
    },
    {
     "data": {
      "application/vnd.jupyter.widget-view+json": {
       "model_id": "246b004b6dce4b5c8a1f2b52a1b7eb28",
       "version_major": 2,
       "version_minor": 0
      },
      "text/plain": [
       "Downloading (…)/main/tokenizer.json:   0%|          | 0.00/436k [00:00<?, ?B/s]"
      ]
     },
     "metadata": {},
     "output_type": "display_data"
    },
    {
     "name": "stdout",
     "output_type": "stream",
     "text": [
      "\u001b[0;30;47m[CLS]\u001b[0m \u001b[0;30;47mMy\u001b[0m \u001b[0;30;47mname\u001b[0m \u001b[0;30;47mis\u001b[0m \u001b[0;30;47mH\u001b[0m \u001b[0;30;47m##OL\u001b[0m \u001b[0;30;47m##ID\u001b[0m \u001b[0;30;47m##A\u001b[0m \u001b[0;30;47m##Y\u001b[0m \u001b[0;30;47m[UNK]\u001b[0m \u001b[0;30;47m愛\u001b[0m \u001b[0;30;47m[UNK]\u001b[0m \u001b[0;30;47m<\u001b[0m \u001b[0;30;47ms\u001b[0m \u001b[0;30;47m>\u001b[0m \u001b[0;30;47m<\u001b[0m \u001b[0;30;47m/\u001b[0m \u001b[0;30;47ms\u001b[0m \u001b[0;30;47m>\u001b[0m \u001b[0;30;47mif\u001b[0m \u001b[0;30;47mel\u001b[0m \u001b[0;30;47m##if\u001b[0m \u001b[0;30;47m:\u001b[0m \u001b[0;30;47melse\u001b[0m \u001b[0;30;47m:\u001b[0m \u001b[0;30;47mend\u001b[0m \u001b[0;30;47mTwo\u001b[0m \u001b[0;30;47mta\u001b[0m \u001b[0;30;47m##bs\u001b[0m \u001b[0;30;47m:\u001b[0m \u001b[0;30;47m\"\u001b[0m \u001b[0;30;47m\"\u001b[0m \u001b[0;30;47mand\u001b[0m \u001b[0;30;47mfour\u001b[0m \u001b[0;30;47mspaces\u001b[0m \u001b[0;30;47m:\u001b[0m \u001b[0;30;47m\"\u001b[0m \u001b[0;30;47m\"\u001b[0m \u001b[0;30;47m12\u001b[0m \u001b[0;30;47m.\u001b[0m \u001b[0;30;47m0\u001b[0m \u001b[0;30;47m*\u001b[0m \u001b[0;30;47m12\u001b[0m \u001b[0;30;47m=\u001b[0m \u001b[0;30;47m144\u001b[0m \u001b[0;30;47m[SEP]\u001b[0m \n",
      "\n",
      "\n",
      "101 \u001b[0;30;47m[CLS]\u001b[0m\n",
      "1422 \u001b[0;30;47mMy\u001b[0m\n",
      "1271 \u001b[0;30;47mname\u001b[0m\n",
      "1110 \u001b[0;30;47mis\u001b[0m\n",
      "145 \u001b[0;30;47mH\u001b[0m\n",
      "13901 \u001b[0;30;47m##OL\u001b[0m\n",
      "9949 \u001b[0;30;47m##ID\u001b[0m\n",
      "1592 \u001b[0;30;47m##A\u001b[0m\n",
      "3663 \u001b[0;30;47m##Y\u001b[0m\n",
      "100 \u001b[0;30;47m[UNK]\u001b[0m\n",
      "1028 \u001b[0;30;47m愛\u001b[0m\n",
      "100 \u001b[0;30;47m[UNK]\u001b[0m\n",
      "133 \u001b[0;30;47m<\u001b[0m\n",
      "188 \u001b[0;30;47ms\u001b[0m\n",
      "135 \u001b[0;30;47m>\u001b[0m\n",
      "133 \u001b[0;30;47m<\u001b[0m\n",
      "120 \u001b[0;30;47m/\u001b[0m\n",
      "188 \u001b[0;30;47ms\u001b[0m\n",
      "135 \u001b[0;30;47m>\u001b[0m\n",
      "1191 \u001b[0;30;47mif\u001b[0m\n",
      "8468 \u001b[0;30;47mel\u001b[0m\n",
      "8914 \u001b[0;30;47m##if\u001b[0m\n",
      "131 \u001b[0;30;47m:\u001b[0m\n",
      "1950 \u001b[0;30;47melse\u001b[0m\n",
      "131 \u001b[0;30;47m:\u001b[0m\n",
      "1322 \u001b[0;30;47mend\u001b[0m\n",
      "1960 \u001b[0;30;47mTwo\u001b[0m\n",
      "27629 \u001b[0;30;47mta\u001b[0m\n",
      "4832 \u001b[0;30;47m##bs\u001b[0m\n",
      "131 \u001b[0;30;47m:\u001b[0m\n",
      "107 \u001b[0;30;47m\"\u001b[0m\n",
      "107 \u001b[0;30;47m\"\u001b[0m\n",
      "1105 \u001b[0;30;47mand\u001b[0m\n",
      "1300 \u001b[0;30;47mfour\u001b[0m\n",
      "6966 \u001b[0;30;47mspaces\u001b[0m\n",
      "131 \u001b[0;30;47m:\u001b[0m\n",
      "107 \u001b[0;30;47m\"\u001b[0m\n",
      "107 \u001b[0;30;47m\"\u001b[0m\n",
      "1367 \u001b[0;30;47m12\u001b[0m\n",
      "119 \u001b[0;30;47m.\u001b[0m\n",
      "121 \u001b[0;30;47m0\u001b[0m\n",
      "115 \u001b[0;30;47m*\u001b[0m\n",
      "1367 \u001b[0;30;47m12\u001b[0m\n",
      "134 \u001b[0;30;47m=\u001b[0m\n",
      "15373 \u001b[0;30;47m144\u001b[0m\n",
      "102 \u001b[0;30;47m[SEP]\u001b[0m\n"
     ]
    }
   ],
   "source": [
    "show_tokens(text, \"bert-base-cased\")"
   ]
  },
  {
   "cell_type": "code",
   "execution_count": 32,
   "id": "c1465134-5d37-4afb-a8bb-5117457a1ac9",
   "metadata": {
    "editable": true,
    "slideshow": {
     "slide_type": ""
    },
    "tags": []
   },
   "outputs": [
    {
     "name": "stdout",
     "output_type": "stream",
     "text": [
      "\u001b[0;30;47m\n",
      "\u001b[0m \u001b[0;30;47mMy\u001b[0m \u001b[0;30;47m name\u001b[0m \u001b[0;30;47m is\u001b[0m \u001b[0;30;47m HOL\u001b[0m \u001b[0;30;47mID\u001b[0m \u001b[0;30;47mAY\u001b[0m \u001b[0;30;47m\n",
      "\u001b[0m \u001b[0;30;47m�\u001b[0m \u001b[0;30;47m�\u001b[0m \u001b[0;30;47m�\u001b[0m \u001b[0;30;47m�\u001b[0m \u001b[0;30;47m �\u001b[0m \u001b[0;30;47m�\u001b[0m \u001b[0;30;47m�\u001b[0m \u001b[0;30;47m\n",
      "\u001b[0m \u001b[0;30;47m<\u001b[0m \u001b[0;30;47ms\u001b[0m \u001b[0;30;47m>\u001b[0m \u001b[0;30;47m </\u001b[0m \u001b[0;30;47ms\u001b[0m \u001b[0;30;47m>\u001b[0m \u001b[0;30;47m if\u001b[0m \u001b[0;30;47m el\u001b[0m \u001b[0;30;47mif\u001b[0m \u001b[0;30;47m:\u001b[0m \u001b[0;30;47m else\u001b[0m \u001b[0;30;47m:\u001b[0m \u001b[0;30;47m end\u001b[0m \u001b[0;30;47m\n",
      "\u001b[0m \u001b[0;30;47mTwo\u001b[0m \u001b[0;30;47m tabs\u001b[0m \u001b[0;30;47m:\u001b[0m \u001b[0;30;47m \"\u001b[0m \u001b[0;30;47m\t\u001b[0m \u001b[0;30;47m\t\u001b[0m \u001b[0;30;47m\"\u001b[0m \u001b[0;30;47m and\u001b[0m \u001b[0;30;47m four\u001b[0m \u001b[0;30;47m spaces\u001b[0m \u001b[0;30;47m:\u001b[0m \u001b[0;30;47m \"\u001b[0m \u001b[0;30;47m \u001b[0m \u001b[0;30;47m \u001b[0m \u001b[0;30;47m \"\u001b[0m \u001b[0;30;47m\n",
      "\u001b[0m \u001b[0;30;47m12\u001b[0m \u001b[0;30;47m.\u001b[0m \u001b[0;30;47m0\u001b[0m \u001b[0;30;47m*\u001b[0m \u001b[0;30;47m12\u001b[0m \u001b[0;30;47m=\u001b[0m \u001b[0;30;47m144\u001b[0m \u001b[0;30;47m\n",
      "\u001b[0m \n",
      "\n",
      "\n",
      "198 \u001b[0;30;47m\n",
      "\u001b[0m\n",
      "3666 \u001b[0;30;47mMy\u001b[0m\n",
      "1438 \u001b[0;30;47m name\u001b[0m\n",
      "318 \u001b[0;30;47m is\u001b[0m\n",
      "49707 \u001b[0;30;47m HOL\u001b[0m\n",
      "2389 \u001b[0;30;47mID\u001b[0m\n",
      "4792 \u001b[0;30;47mAY\u001b[0m\n",
      "198 \u001b[0;30;47m\n",
      "\u001b[0m\n",
      "22755 \u001b[0;30;47m�\u001b[0m\n",
      "239 \u001b[0;30;47m�\u001b[0m\n",
      "35707 \u001b[0;30;47m�\u001b[0m\n",
      "249 \u001b[0;30;47m�\u001b[0m\n",
      "12520 \u001b[0;30;47m �\u001b[0m\n",
      "97 \u001b[0;30;47m�\u001b[0m\n",
      "245 \u001b[0;30;47m�\u001b[0m\n",
      "198 \u001b[0;30;47m\n",
      "\u001b[0m\n",
      "27 \u001b[0;30;47m<\u001b[0m\n",
      "82 \u001b[0;30;47ms\u001b[0m\n",
      "29 \u001b[0;30;47m>\u001b[0m\n",
      "7359 \u001b[0;30;47m </\u001b[0m\n",
      "82 \u001b[0;30;47ms\u001b[0m\n",
      "29 \u001b[0;30;47m>\u001b[0m\n",
      "611 \u001b[0;30;47m if\u001b[0m\n",
      "1288 \u001b[0;30;47m el\u001b[0m\n",
      "361 \u001b[0;30;47mif\u001b[0m\n",
      "25 \u001b[0;30;47m:\u001b[0m\n",
      "2073 \u001b[0;30;47m else\u001b[0m\n",
      "25 \u001b[0;30;47m:\u001b[0m\n",
      "886 \u001b[0;30;47m end\u001b[0m\n",
      "198 \u001b[0;30;47m\n",
      "\u001b[0m\n",
      "7571 \u001b[0;30;47mTwo\u001b[0m\n",
      "22524 \u001b[0;30;47m tabs\u001b[0m\n",
      "25 \u001b[0;30;47m:\u001b[0m\n",
      "366 \u001b[0;30;47m \"\u001b[0m\n",
      "197 \u001b[0;30;47m\t\u001b[0m\n",
      "197 \u001b[0;30;47m\t\u001b[0m\n",
      "1 \u001b[0;30;47m\"\u001b[0m\n",
      "290 \u001b[0;30;47m and\u001b[0m\n",
      "1440 \u001b[0;30;47m four\u001b[0m\n",
      "9029 \u001b[0;30;47m spaces\u001b[0m\n",
      "25 \u001b[0;30;47m:\u001b[0m\n",
      "366 \u001b[0;30;47m \"\u001b[0m\n",
      "220 \u001b[0;30;47m \u001b[0m\n",
      "220 \u001b[0;30;47m \u001b[0m\n",
      "366 \u001b[0;30;47m \"\u001b[0m\n",
      "198 \u001b[0;30;47m\n",
      "\u001b[0m\n",
      "1065 \u001b[0;30;47m12\u001b[0m\n",
      "13 \u001b[0;30;47m.\u001b[0m\n",
      "15 \u001b[0;30;47m0\u001b[0m\n",
      "9 \u001b[0;30;47m*\u001b[0m\n",
      "1065 \u001b[0;30;47m12\u001b[0m\n",
      "28 \u001b[0;30;47m=\u001b[0m\n",
      "18444 \u001b[0;30;47m144\u001b[0m\n",
      "198 \u001b[0;30;47m\n",
      "\u001b[0m\n"
     ]
    }
   ],
   "source": [
    "show_tokens(text, \"gpt2\")"
   ]
  },
  {
   "cell_type": "code",
   "execution_count": 33,
   "id": "f6c1a836-4f9e-4751-9fd5-82e5249af425",
   "metadata": {
    "editable": true,
    "slideshow": {
     "slide_type": ""
    },
    "tags": []
   },
   "outputs": [
    {
     "name": "stdout",
     "output_type": "stream",
     "text": [
      "\u001b[0;30;47m\n",
      "\u001b[0m \u001b[0;30;47mMy\u001b[0m \u001b[0;30;47m name\u001b[0m \u001b[0;30;47m is\u001b[0m \u001b[0;30;47m H\u001b[0m \u001b[0;30;47mOLID\u001b[0m \u001b[0;30;47mAY\u001b[0m \u001b[0;30;47m\n",
      "\u001b[0m \u001b[0;30;47m我\u001b[0m \u001b[0;30;47m�\u001b[0m \u001b[0;30;47m�\u001b[0m \u001b[0;30;47m �\u001b[0m \u001b[0;30;47m�\u001b[0m \u001b[0;30;47m�\u001b[0m \u001b[0;30;47m\n",
      "\u001b[0m \u001b[0;30;47m<s\u001b[0m \u001b[0;30;47m>\u001b[0m \u001b[0;30;47m </\u001b[0m \u001b[0;30;47ms\u001b[0m \u001b[0;30;47m>\u001b[0m \u001b[0;30;47m if\u001b[0m \u001b[0;30;47m elif\u001b[0m \u001b[0;30;47m:\u001b[0m \u001b[0;30;47m else\u001b[0m \u001b[0;30;47m:\u001b[0m \u001b[0;30;47m end\u001b[0m \u001b[0;30;47m\n",
      "\u001b[0m \u001b[0;30;47mTwo\u001b[0m \u001b[0;30;47m tabs\u001b[0m \u001b[0;30;47m:\u001b[0m \u001b[0;30;47m \"\u001b[0m \u001b[0;30;47m\t\u001b[0m \u001b[0;30;47m\t\u001b[0m \u001b[0;30;47m\"\u001b[0m \u001b[0;30;47m and\u001b[0m \u001b[0;30;47m four\u001b[0m \u001b[0;30;47m spaces\u001b[0m \u001b[0;30;47m:\u001b[0m \u001b[0;30;47m \"\u001b[0m \u001b[0;30;47m  \u001b[0m \u001b[0;30;47m \"\n",
      "\u001b[0m \u001b[0;30;47m12\u001b[0m \u001b[0;30;47m.\u001b[0m \u001b[0;30;47m0\u001b[0m \u001b[0;30;47m*\u001b[0m \u001b[0;30;47m12\u001b[0m \u001b[0;30;47m=\u001b[0m \u001b[0;30;47m144\u001b[0m \u001b[0;30;47m\n",
      "\u001b[0m \n",
      "\n",
      "\n",
      "198 \u001b[0;30;47m\n",
      "\u001b[0m\n",
      "5159 \u001b[0;30;47mMy\u001b[0m\n",
      "836 \u001b[0;30;47m name\u001b[0m\n",
      "374 \u001b[0;30;47m is\u001b[0m\n",
      "473 \u001b[0;30;47m H\u001b[0m\n",
      "59351 \u001b[0;30;47mOLID\u001b[0m\n",
      "3097 \u001b[0;30;47mAY\u001b[0m\n",
      "198 \u001b[0;30;47m\n",
      "\u001b[0m\n",
      "37046 \u001b[0;30;47m我\u001b[0m\n",
      "31374 \u001b[0;30;47m�\u001b[0m\n",
      "249 \u001b[0;30;47m�\u001b[0m\n",
      "11410 \u001b[0;30;47m �\u001b[0m\n",
      "97 \u001b[0;30;47m�\u001b[0m\n",
      "245 \u001b[0;30;47m�\u001b[0m\n",
      "198 \u001b[0;30;47m\n",
      "\u001b[0m\n",
      "45147 \u001b[0;30;47m<s\u001b[0m\n",
      "29 \u001b[0;30;47m>\u001b[0m\n",
      "694 \u001b[0;30;47m </\u001b[0m\n",
      "82 \u001b[0;30;47ms\u001b[0m\n",
      "29 \u001b[0;30;47m>\u001b[0m\n",
      "422 \u001b[0;30;47m if\u001b[0m\n",
      "4508 \u001b[0;30;47m elif\u001b[0m\n",
      "25 \u001b[0;30;47m:\u001b[0m\n",
      "775 \u001b[0;30;47m else\u001b[0m\n",
      "25 \u001b[0;30;47m:\u001b[0m\n",
      "842 \u001b[0;30;47m end\u001b[0m\n",
      "198 \u001b[0;30;47m\n",
      "\u001b[0m\n",
      "11874 \u001b[0;30;47mTwo\u001b[0m\n",
      "23204 \u001b[0;30;47m tabs\u001b[0m\n",
      "25 \u001b[0;30;47m:\u001b[0m\n",
      "330 \u001b[0;30;47m \"\u001b[0m\n",
      "197 \u001b[0;30;47m\t\u001b[0m\n",
      "197 \u001b[0;30;47m\t\u001b[0m\n",
      "1 \u001b[0;30;47m\"\u001b[0m\n",
      "323 \u001b[0;30;47m and\u001b[0m\n",
      "3116 \u001b[0;30;47m four\u001b[0m\n",
      "12908 \u001b[0;30;47m spaces\u001b[0m\n",
      "25 \u001b[0;30;47m:\u001b[0m\n",
      "330 \u001b[0;30;47m \"\u001b[0m\n",
      "256 \u001b[0;30;47m  \u001b[0m\n",
      "6360 \u001b[0;30;47m \"\n",
      "\u001b[0m\n",
      "717 \u001b[0;30;47m12\u001b[0m\n",
      "13 \u001b[0;30;47m.\u001b[0m\n",
      "15 \u001b[0;30;47m0\u001b[0m\n",
      "9 \u001b[0;30;47m*\u001b[0m\n",
      "717 \u001b[0;30;47m12\u001b[0m\n",
      "28 \u001b[0;30;47m=\u001b[0m\n",
      "8929 \u001b[0;30;47m144\u001b[0m\n",
      "198 \u001b[0;30;47m\n",
      "\u001b[0m\n"
     ]
    }
   ],
   "source": [
    "show_tokens(text, \"gpt-4\")"
   ]
  },
  {
   "cell_type": "code",
   "execution_count": null,
   "id": "4c4d2a67-b2c3-41e9-bdbb-8e2ae475f2f7",
   "metadata": {
    "editable": true,
    "slideshow": {
     "slide_type": ""
    },
    "tags": []
   },
   "outputs": [],
   "source": []
  }
 ],
 "metadata": {
  "kernelspec": {
   "display_name": "Python 3 (ipykernel)",
   "language": "python",
   "name": "python3"
  },
  "language_info": {
   "codemirror_mode": {
    "name": "ipython",
    "version": 3
   },
   "file_extension": ".py",
   "mimetype": "text/x-python",
   "name": "python",
   "nbconvert_exporter": "python",
   "pygments_lexer": "ipython3",
   "version": "3.11.5"
  }
 },
 "nbformat": 4,
 "nbformat_minor": 5
}
