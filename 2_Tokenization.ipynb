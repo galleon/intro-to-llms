{
 "cells": [
  {
   "cell_type": "code",
   "execution_count": 2,
   "id": "d172bf11-f681-4c1e-a1ea-6a1a68182e0d",
   "metadata": {},
   "outputs": [],
   "source": [
    "%%capture\n",
    "!pip install torch transformers"
   ]
  },
  {
   "cell_type": "code",
   "execution_count": 3,
   "id": "8537c9c3-9910-482d-8855-5f487dfccaaa",
   "metadata": {},
   "outputs": [],
   "source": [
    "from transformers import pipeline, GPT2Tokenizer"
   ]
  },
  {
   "cell_type": "code",
   "execution_count": 4,
   "id": "6c0e5b3f-91b8-4b40-b240-4cb9aea02a25",
   "metadata": {},
   "outputs": [],
   "source": [
    "generator = pipeline('text-generation', model='gpt2')"
   ]
  },
  {
   "cell_type": "code",
   "execution_count": 5,
   "id": "0646faf6-0d30-4e6f-a654-9f41bbf5f626",
   "metadata": {},
   "outputs": [
    {
     "name": "stderr",
     "output_type": "stream",
     "text": [
      "Setting `pad_token_id` to `eos_token_id`:50256 for open-end generation.\n"
     ]
    },
    {
     "data": {
      "text/plain": [
       "[{'generated_text': 'The capital of Belgium is Brussels. The capital of France is Paris.'}]"
      ]
     },
     "execution_count": 5,
     "metadata": {},
     "output_type": "execute_result"
    }
   ],
   "source": [
    "generator(\"The capital of Belgium is Brussels. The capital of France is\", max_new_tokens=2)"
   ]
  },
  {
   "cell_type": "code",
   "execution_count": 6,
   "id": "2d75a97b-ad9c-489c-a99d-3a7b92701be5",
   "metadata": {},
   "outputs": [],
   "source": [
    "tokenizer = GPT2Tokenizer.from_pretrained('gpt2')"
   ]
  },
  {
   "cell_type": "code",
   "execution_count": 7,
   "id": "d03452bb-7fc9-41d0-b5c6-3f167e271955",
   "metadata": {},
   "outputs": [
    {
     "data": {
      "text/plain": [
       "False"
      ]
     },
     "execution_count": 7,
     "metadata": {},
     "output_type": "execute_result"
    }
   ],
   "source": [
    "'Megatron' in tokenizer.get_vocab()"
   ]
  },
  {
   "cell_type": "code",
   "execution_count": 8,
   "id": "b30b437c-7180-480c-b99b-bd1e038ba9a7",
   "metadata": {},
   "outputs": [
    {
     "data": {
      "text/plain": [
       "[42672, 23484, 10408, 691, 2241]"
      ]
     },
     "execution_count": 8,
     "metadata": {},
     "output_type": "execute_result"
    }
   ],
   "source": [
    "tokenizer.encode('Megatron loves only himself')"
   ]
  },
  {
   "cell_type": "code",
   "execution_count": 9,
   "id": "e735753a-78c6-4019-af61-b8f777f29fe6",
   "metadata": {
    "editable": true,
    "slideshow": {
     "slide_type": ""
    },
    "tags": []
   },
   "outputs": [
    {
     "data": {
      "text/plain": [
       "['Meg', 'atron', 'Ġloves', 'Ġonly', 'Ġhimself']"
      ]
     },
     "execution_count": 9,
     "metadata": {},
     "output_type": "execute_result"
    }
   ],
   "source": [
    "tokenizer.convert_ids_to_tokens(tokenizer.encode('Megatron loves only himself'))"
   ]
  },
  {
   "cell_type": "code",
   "execution_count": 10,
   "id": "10abf14c-0d6c-4571-bda8-6b278dc32f56",
   "metadata": {},
   "outputs": [
    {
     "data": {
      "text/plain": [
       "True"
      ]
     },
     "execution_count": 10,
     "metadata": {},
     "output_type": "execute_result"
    }
   ],
   "source": [
    "'Ġloves' in tokenizer.get_vocab()"
   ]
  },
  {
   "cell_type": "code",
   "execution_count": null,
   "id": "2d0f7b80-26a6-49d2-b6c5-db14f4ee17c9",
   "metadata": {
    "editable": true,
    "slideshow": {
     "slide_type": ""
    },
    "tags": []
   },
   "outputs": [],
   "source": []
  }
 ],
 "metadata": {
  "kernelspec": {
   "display_name": "Python 3 (ipykernel)",
   "language": "python",
   "name": "python3"
  },
  "language_info": {
   "codemirror_mode": {
    "name": "ipython",
    "version": 3
   },
   "file_extension": ".py",
   "mimetype": "text/x-python",
   "name": "python",
   "nbconvert_exporter": "python",
   "pygments_lexer": "ipython3",
   "version": "3.11.5"
  }
 },
 "nbformat": 4,
 "nbformat_minor": 5
}
